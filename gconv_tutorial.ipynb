{
 "cells": [
  {
   "attachments": {},
   "cell_type": "markdown",
   "metadata": {},
   "source": [
    "## GConv Module Tutorial\n",
    "\n",
    "The `gconv` module is a Pytorch extension that implements regular group convolution. The provided group convolution layers are as straightforward to use as regular Pytorch convolution layers, requiring no expert knowledge to be used effectively. At the same time, `gconv` offers a flexible framefork for working with group convolutions that is fully custamizable. Both 2D and 3D inputs are supported, as well as discrete group convolutions and approximating continuous groups.\n",
    "\n",
    "This tutorial demonstrates how to get started with the `gconv` module, and how to module can be used to implement custom group convolutions.\n"
   ]
  },
  {
   "attachments": {},
   "cell_type": "markdown",
   "metadata": {},
   "source": [
    "### Getting Started\n",
    "\n",
    "The `gconv` modules are as straightforward to use as any regular Pytorch convolution module. The only difference is the output consisting of both the feature maps, as well as the group elements on which they are defined. See the example below:"
   ]
  },
  {
   "cell_type": "code",
   "execution_count": 2,
   "metadata": {},
   "outputs": [
    {
     "name": "stdout",
     "output_type": "stream",
     "text": [
      "torch.Size([1, 32, 1])\n"
     ]
    },
    {
     "name": "stderr",
     "output_type": "stream",
     "text": [
      "/Users/thijs/miniconda3/envs/thesis/lib/python3.10/site-packages/torch/nn/functional.py:4215: UserWarning: Default grid_sample and affine_grid behavior has changed to align_corners=False since 1.3.0. Please specify align_corners=True if the old behavior is desired. See the documentation of grid_sample for details.\n",
      "  warnings.warn(\n"
     ]
    }
   ],
   "source": [
    "import torch                                                                        \n",
    "import gconv.nn as gnn                                                              \n",
    "\n",
    "# input batch of 3d data with 3 channels\n",
    "x1 = torch.randn(1, 3, 28, 28, 28)\n",
    "\n",
    "# the lifting layer is required to lift R3 input to the group\n",
    "lifting_layer = gnn.GLiftingConvSE3(in_channels=3, out_channels=16, kernel_size=5)\n",
    "gconv_layer = gnn.GSeparableConvSE3(in_channels=16, out_channels=32, kernel_size=5)\n",
    "\n",
    "# global avg pooling to produce invariant features after the group convolutions\n",
    "pool = gnn.GAvgGlobalPool()\n",
    "\n",
    "# gconv modules return the feature maps and the group elements on which they are defined\n",
    "x2, H1 = lifting_layer(x1)\n",
    "x3, H2 = gconv_layer(x2, H1)\n",
    "\n",
    "y = pool(x3, H2)\n",
    "\n",
    "print(y.shape)"
   ]
  },
  {
   "attachments": {},
   "cell_type": "markdown",
   "metadata": {},
   "source": [
    "## Implementing a custom group convolution\n",
    "\n",
    "This section explains how to implement a custom group convolutions. Group convolutions consists of (1) a `GroupKernel` module that manages the weight and performs all group related actions and (2) a `GroupConv` module that samples the kernel and performs the convolution. In this example, we will create a lifting and a separable group convolution module for 2D rotations, i.e., the SE(2) group. We start with implementing the lifting and separable kernels.\n",
    "\n",
    "### Implementing the SE(2) kernels\n",
    "\n",
    "All that is required for implementing a custom kernel is the logic that deals with the group elements. For this, the following callable objects should be implemented for the given group `H`:\n",
    "\n",
    "* `det_H(H: Tensor) -> Tensor`: accepts a tensor of group elements and returns their determinants.\n",
    "* `inverse_H(H: Tensor) -> Tensor`: accepts a tensor of group elements and returns their inverses.\n",
    "* `left_apply_H_to_H(H1: Tensor, H2: Tensor) -> Tensor`: accepts tensors of group elements `H1` of shape `(N, ...)` and `H2` of shape `(M, ...)` and returns the pairwise left group action resulting in a tensor of shape `(N, M, ...)`.\n",
    "* `left_apply_H_to_Rn(H: Tensor, grid: Tensor) -> Tensor`: accepts a tensor of group elements `H` of shape `(N, *dims)` and a tensor of Rn vectors of shape `(..., Rn)` and calculates the pairwise product between H and grid, resulting in a tensor of shape `(N, ..., Rn)`.\n",
    "* `grid_sample(grid: Tensor, signal: Tensor, signal_grid: Tensor) -> Tensor`: Given a tensor `signal` of shape `(N, S)` and a corresponding tensor `signal_grid` of group elements of shape `(N, *dims)`, samples the signal for given `grid` tensor of group elements of shape `(M. *dims)`. The returned signal is a tensor of shape `(M, S)`.\n",
    "\n",
    "We will implement these methods for the SO(2) group below. For this, we need to chose a representation for the group elements. In the case of SO(2), a simple representation is simply the angle of the rotation. Hence, our SO(2) elements are in the range of [0, $2\\pi$).\n",
    "\n",
    "#### Implementing the group determinant\n",
    "\n",
    "The determinant of any rotation is simply 1, which is the default for the `GroupKernel`, so we do not need to implement it. Here, we will do so anyway for demonstration purposes."
   ]
  },
  {
   "cell_type": "code",
   "execution_count": 5,
   "metadata": {},
   "outputs": [],
   "source": [
    "from torch import Tensor\n",
    "\n",
    "def det_so3(H: Tensor) -> Tensor:\n",
    "    return torch.ones_like(H)"
   ]
  },
  {
   "attachments": {},
   "cell_type": "markdown",
   "metadata": {},
   "source": [
    "#### Implementing the group inverse\n",
    "\n",
    "The inverse of a rotation $\\theta$ is simply a rotation by $-\\theta$."
   ]
  },
  {
   "cell_type": "code",
   "execution_count": 6,
   "metadata": {},
   "outputs": [],
   "source": [
    "def inverse_so3(H: Tensor) -> Tensor:\n",
    "    return -H"
   ]
  },
  {
   "attachments": {},
   "cell_type": "markdown",
   "metadata": {},
   "source": [
    "#### Implementing the left group action\n",
    "\n",
    "If we rotate by $\\theta_1$ to which we then left-apply $\\theta_2$, we obtain the new rotation $(\\theta_1 + \\theta_2) \\mod 2\\pi$. The modulo operation is required to keep the group elements in the defined interval of [0, $2\\pi$)."
   ]
  },
  {
   "cell_type": "code",
   "execution_count": 7,
   "metadata": {},
   "outputs": [],
   "source": [
    "import math\n",
    "\n",
    "def left_apply_to_so3(H1: Tensor, H2: Tensor) -> Tensor:\n",
    "    # broadcast to apply every element in H1 to every element in H2\n",
    "    return (H1[:, None] + H2) % (2 * math.pi)"
   ]
  },
  {
   "attachments": {},
   "cell_type": "markdown",
   "metadata": {},
   "source": [
    "#### Implementing the left group action on R2.\n",
    "\n",
    "The spatial grid on which the weights are defined are of shape `(W, H, 2)` in the 2D case, where `W` and `H` are the width and height of the kernels, respectively. Each element of the spatial grid denotes the x and position. 2D vectors can simply be rotated by a rotation matrix."
   ]
  },
  {
   "cell_type": "code",
   "execution_count": 8,
   "metadata": {},
   "outputs": [],
   "source": [
    "def left_apply_to_R2(H: Tensor, grid: Tensor) -> Tensor:\n",
    "    matrices = H.new_empty( H.shape[0], 2, 2)\n",
    "\n",
    "    cos_H = torch.cos(H)\n",
    "    sin_H = torch.sin(H)\n",
    "\n",
    "    matrices[..., 0, 0] = cos_H\n",
    "    matrices[..., 0, 1] = -sin_H\n",
    "    matrices[..., 1, 0] = sin_H\n",
    "    matrices[..., 1, 1] = cos_H\n",
    "\n",
    "    # broadcast to apply every matrix in matrices to every 2d vector in grid\n",
    "    return matrices[:, None, None] @ grid[..., None]"
   ]
  },
  {
   "attachments": {},
   "cell_type": "markdown",
   "metadata": {},
   "source": [
    "#### Implementing grid sampling for SO2\n",
    "\n",
    "The group kernels are represented by a discretization of the group. In the case for SO2, this could be some number of rotations with corresponding weights.\n",
    "\n",
    "To approximate the full continuous SO2 group, we are required to sample the weights of any SO2 element. Therefore, we use the discretization as a basis of a continuous signal defined over SO2 through interpolation.\n",
    "\n",
    "Given a uniform discrete SO2 grid, we can view this grid as points on the unit circle. Hence, we can find the signal of any SO2 element by finding the two neighbouring points and linearly interpolating between them. This can simply be done by transforming our group elements to carthesian coordinates (x, y vectors) that represent points on the unit sphere. The distance between points is then simply the angle between the vectors. This representation has the benefit of dealing with the periodicity of the SO2 manifold."
   ]
  },
  {
   "cell_type": "code",
   "execution_count": null,
   "metadata": {},
   "outputs": [],
   "source": [
    "def grid_sample_so2(grid: Tensor, signal: Tensor, signal_grid: Tensor) -> Tensor:\n",
    "    # transform grid to carthesian coordinates.\n",
    "    grid_cart = grid.new_empty(grid.shape[0], 2)\n",
    "    grid_cart[..., 0] = torch.cos(grid)\n",
    "    grid_cart[..., 1] = torch.sin(grid)\n",
    "\n",
    "    # transform signal_grid to carthesian coordinates.\n",
    "    signal_grid_cart = signal_grid.new_empty(signal_grid.shape[0], 2)\n",
    "    signal_grid_cart[..., 0] = torch.cos(grid)\n",
    "    signal_grid_cart[..., 1] = torch.sin(grid)\n",
    "\n",
    "    # we calculate the distance of all points in grid to\n",
    "    # all points in the signal grid to find the two neighbours,\n",
    "    # i.e., the two closest points. In the case vectors on the unit\n",
    "    # sphere, this is simply the dot product between them\n",
    "    distances = grid_cart[:, None] @ signal_grid_cart\n",
    "\n",
    "    # obtain the two neighbours and the distances to them\n",
    "    dists, neighbours = torch.topk(distances, 2, largest=False)\n",
    "\n",
    "    # to obtain the interpolation coefficients, we need to normalize\n",
    "    # the distances, such that the distances between two neighbours equals\n",
    "    # 1. Given a uniform grid of N rotations, we divide by (2pi / N).\n",
    "    coeffs = dists / ((2 * math.pi) / signal_grid.shape[0])\n",
    "\n",
    "    # now we can perform the linear interpolation and return the new signal\n",
    "    return (coeffs * signal[neighbours]).sum(-2)\n",
    "\n"
   ]
  }
 ],
 "metadata": {
  "kernelspec": {
   "display_name": "thesis",
   "language": "python",
   "name": "python3"
  },
  "language_info": {
   "codemirror_mode": {
    "name": "ipython",
    "version": 3
   },
   "file_extension": ".py",
   "mimetype": "text/x-python",
   "name": "python",
   "nbconvert_exporter": "python",
   "pygments_lexer": "ipython3",
   "version": "3.10.6"
  },
  "orig_nbformat": 4
 },
 "nbformat": 4,
 "nbformat_minor": 2
}
